{
 "cells": [
  {
   "cell_type": "code",
   "execution_count": 39,
   "id": "bea4d621",
   "metadata": {},
   "outputs": [],
   "source": [
    "import sys\n",
    "import warnings\n",
    "warnings.filterwarnings(\"ignore\")\n",
    "\n",
    "import os\n",
    "os.environ['TF_CPP_MIN_LOG_LEVEL'] = '2'\n",
    "import tensorflow as tf\n",
    "\n",
    "import cv2\n",
    "import numpy as np\n",
    "import matplotlib.pyplot as plt\n",
    "\n",
    "import torch\n",
    "import torchvision.transforms as transforms\n",
    "import torch.nn as nn\n",
    "\n",
    "from skimage.metrics import structural_similarity, peak_signal_noise_ratio, mean_squared_error\n",
    "\n",
    "plt.rcParams['font.size'] = 14"
   ]
  },
  {
   "cell_type": "code",
   "execution_count": 40,
   "id": "289f0149",
   "metadata": {},
   "outputs": [],
   "source": [
    "def calculate_metrics_tf(original_image, encoded_image, message):\n",
    "    bpp = len(message) * 8 / (original_image.shape[0] * original_image.shape[1])\n",
    "\n",
    "    im1 = tf.image.convert_image_dtype(original_image, tf.float32)\n",
    "    im2 = tf.image.convert_image_dtype(encoded_image, tf.float32)\n",
    "    ssim = float(tf.image.ssim(im1, im2, max_val=1, filter_size=11))\n",
    "\n",
    "    tensor_img1 = transforms.ToTensor()(original_image)\n",
    "    tensor_img2 = transforms.ToTensor()(encoded_image)\n",
    "    mse = nn.functional.mse_loss(tensor_img1, tensor_img2).item()\n",
    "\n",
    "    psnr = cv2.PSNR(original_image, encoded_image)\n",
    "    \n",
    "    return bpp, ssim, mse, psnr"
   ]
  },
  {
   "cell_type": "code",
   "execution_count": 41,
   "id": "b8fc30c3",
   "metadata": {},
   "outputs": [],
   "source": [
    "filename = './images/Lenna.png'\n",
    "filename_encoded = './images/Lenna_steganogan_encoded.png'\n",
    "message = \"sadf\"\n",
    "\n",
    "original_image = cv2.cvtColor(cv2.imread(filename), cv2.COLOR_BGR2RGB)\n",
    "encoded_image = cv2.cvtColor(cv2.imread(filename_encoded), cv2.COLOR_BGR2RGB)"
   ]
  },
  {
   "cell_type": "code",
   "execution_count": 42,
   "id": "edf847ee",
   "metadata": {},
   "outputs": [
    {
     "name": "stdout",
     "output_type": "stream",
     "text": [
      "BPP:   0.0000000000\n",
      "SSIM:  0.9202553630\n",
      "MSE:   0.0002659806\n",
      "PSNR:  35.7515009060\n"
     ]
    }
   ],
   "source": [
    "bpp, ssim, mse, psnr = calculate_metrics_tf(original_image, encoded_image, message)\n",
    "print(\"BPP:  \", format(float(bpp),  '.10f'))\n",
    "print(\"SSIM: \", format(float(ssim), '.10f'))\n",
    "print(\"MSE:  \", format(float(mse),  '.10f'))\n",
    "print(\"PSNR: \", format(float(psnr), '.10f'))"
   ]
  },
  {
   "cell_type": "code",
   "execution_count": 66,
   "id": "69cf397b",
   "metadata": {},
   "outputs": [],
   "source": [
    "def calculate_metrics(original_image, encoded_image, message):\n",
    "    bpp = len(message) * 8 / (original_image.shape[0] * original_image.shape[1])\n",
    "    ssim, _ = structural_similarity(original_image, encoded_image, full=True, channel_axis=-1)   \n",
    "    mse = mean_squared_error(original_image, encoded_image)\n",
    "    psnr = peak_signal_noise_ratio(original_image, encoded_image)\n",
    "\n",
    "    return bpp, ssim, mse, psnr"
   ]
  },
  {
   "cell_type": "code",
   "execution_count": 67,
   "id": "fb2d8b3a",
   "metadata": {},
   "outputs": [
    {
     "name": "stdout",
     "output_type": "stream",
     "text": [
      "BPP:   0.0000000000\n",
      "SSIM:  0.9209363268\n",
      "MSE:   17.2953864455\n",
      "PSNR:  35.7515009060\n"
     ]
    }
   ],
   "source": [
    "bpp, ssim, mse, psnr = calculate_metrics_skimage(original_image, encoded_image, message)\n",
    "print(\"BPP:  \", format(float(bpp),  '.10f'))\n",
    "print(\"SSIM: \", format(float(ssim), '.10f'))\n",
    "print(\"MSE:  \", format(float(mse),  '.10f'))\n",
    "print(\"PSNR: \", format(float(psnr), '.10f'))"
   ]
  },
  {
   "cell_type": "code",
   "execution_count": 45,
   "id": "ac60efbc",
   "metadata": {},
   "outputs": [],
   "source": [
    "def calculate_metrics_func(original_image, encoded_image, message):\n",
    "    bpp = len(message) * 8 / (original_image.shape[0] * original_image.shape[1])\n",
    "    ssim, _ = structural_similarity(original_image, encoded_image, full=True, channel_axis=-1)\n",
    "    mse = np.sum((original_image - encoded_image) ** 2) / float(original_image.size)\n",
    "    psnr = 10 * np.log10((255 ** 2) / mse)\n",
    "\n",
    "    return bpp, ssim, mse, psnr"
   ]
  },
  {
   "cell_type": "code",
   "execution_count": 46,
   "id": "1c64a219",
   "metadata": {},
   "outputs": [
    {
     "name": "stdout",
     "output_type": "stream",
     "text": [
      "BPP:   0.0000000000\n",
      "SSIM:  0.9209363268\n",
      "MSE:   16.0598308899\n",
      "PSNR:  36.0733939302\n"
     ]
    }
   ],
   "source": [
    "bpp, ssim, mse, psnr = calculate_metrics_func(original_image, encoded_image, message)\n",
    "print(\"BPP:  \", format(float(bpp),  '.10f'))\n",
    "print(\"SSIM: \", format(float(ssim), '.10f'))\n",
    "print(\"MSE:  \", format(float(mse),  '.10f'))\n",
    "print(\"PSNR: \", format(float(psnr), '.10f'))"
   ]
  }
 ],
 "metadata": {
  "kernelspec": {
   "display_name": "Python 3 (ipykernel)",
   "language": "python",
   "name": "python3"
  },
  "language_info": {
   "codemirror_mode": {
    "name": "ipython",
    "version": 3
   },
   "file_extension": ".py",
   "mimetype": "text/x-python",
   "name": "python",
   "nbconvert_exporter": "python",
   "pygments_lexer": "ipython3",
   "version": "3.7.13"
  }
 },
 "nbformat": 4,
 "nbformat_minor": 5
}
